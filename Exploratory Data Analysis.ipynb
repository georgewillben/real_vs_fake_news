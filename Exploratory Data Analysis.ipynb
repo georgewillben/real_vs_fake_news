{
 "cells": [
  {
   "cell_type": "markdown",
   "metadata": {},
   "source": [
    "# Exploratory Data Analysis\n",
    "\n",
    "## Objective\n",
    "Find meaningfull insights from the data. Look for any patterns in the data that might aid the machine learning process."
   ]
  },
  {
   "cell_type": "markdown",
   "metadata": {},
   "source": [
    "# 1 Import Data"
   ]
  },
  {
   "cell_type": "markdown",
   "metadata": {},
   "source": [
    "## 1.1 Import Libraries"
   ]
  },
  {
   "cell_type": "code",
   "execution_count": 6,
   "metadata": {},
   "outputs": [],
   "source": [
    "import pandas as pd\n",
    "import numpy as np\n",
    "import matplotlib.pyplot as plt\n",
    "from wordcloud import WordCloud"
   ]
  },
  {
   "cell_type": "markdown",
   "metadata": {},
   "source": [
    "## 1.2 Load Data"
   ]
  },
  {
   "cell_type": "code",
   "execution_count": 7,
   "metadata": {},
   "outputs": [
    {
     "data": {
      "text/html": [
       "<div>\n",
       "<style scoped>\n",
       "    .dataframe tbody tr th:only-of-type {\n",
       "        vertical-align: middle;\n",
       "    }\n",
       "\n",
       "    .dataframe tbody tr th {\n",
       "        vertical-align: top;\n",
       "    }\n",
       "\n",
       "    .dataframe thead th {\n",
       "        text-align: right;\n",
       "    }\n",
       "</style>\n",
       "<table border=\"1\" class=\"dataframe\">\n",
       "  <thead>\n",
       "    <tr style=\"text-align: right;\">\n",
       "      <th></th>\n",
       "      <th>text</th>\n",
       "      <th>real_news</th>\n",
       "      <th>tokens</th>\n",
       "    </tr>\n",
       "  </thead>\n",
       "  <tbody>\n",
       "    <tr>\n",
       "      <th>0</th>\n",
       "      <td>upset at trump mexico voices worry and irritat...</td>\n",
       "      <td>1</td>\n",
       "      <td>['upset', 'trump', 'mexico', 'voic', 'worri', ...</td>\n",
       "    </tr>\n",
       "    <tr>\n",
       "      <th>1</th>\n",
       "      <td>watch obama directly calls trump out for cari...</td>\n",
       "      <td>0</td>\n",
       "      <td>['watch', 'obama', 'directli', 'call', 'trump'...</td>\n",
       "    </tr>\n",
       "    <tr>\n",
       "      <th>2</th>\n",
       "      <td>trump lawyer says president not informed he is...</td>\n",
       "      <td>1</td>\n",
       "      <td>['trump', 'lawyer', 'say', 'presid', 'inform',...</td>\n",
       "    </tr>\n",
       "    <tr>\n",
       "      <th>3</th>\n",
       "      <td>trump names interim consumer agency head likel...</td>\n",
       "      <td>1</td>\n",
       "      <td>['trump', 'name', 'interim', 'consum', 'agenc'...</td>\n",
       "    </tr>\n",
       "    <tr>\n",
       "      <th>4</th>\n",
       "      <td>johnny depp goes off on donald trump he’s ‘a ...</td>\n",
       "      <td>0</td>\n",
       "      <td>['johnni', 'depp', 'goe', 'donald', 'trump', '...</td>\n",
       "    </tr>\n",
       "  </tbody>\n",
       "</table>\n",
       "</div>"
      ],
      "text/plain": [
       "                                                text  real_news  \\\n",
       "0  upset at trump mexico voices worry and irritat...          1   \n",
       "1   watch obama directly calls trump out for cari...          0   \n",
       "2  trump lawyer says president not informed he is...          1   \n",
       "3  trump names interim consumer agency head likel...          1   \n",
       "4   johnny depp goes off on donald trump he’s ‘a ...          0   \n",
       "\n",
       "                                              tokens  \n",
       "0  ['upset', 'trump', 'mexico', 'voic', 'worri', ...  \n",
       "1  ['watch', 'obama', 'directli', 'call', 'trump'...  \n",
       "2  ['trump', 'lawyer', 'say', 'presid', 'inform',...  \n",
       "3  ['trump', 'name', 'interim', 'consum', 'agenc'...  \n",
       "4  ['johnni', 'depp', 'goe', 'donald', 'trump', '...  "
      ]
     },
     "execution_count": 7,
     "metadata": {},
     "output_type": "execute_result"
    }
   ],
   "source": [
    "train = pd.read_csv(\"train_clean.csv\")\n",
    "val = pd.read_csv(\"val_clean.csv\")\n",
    "explore = pd.concat([train, val])\n",
    "\n",
    "explore.head()"
   ]
  },
  {
   "cell_type": "markdown",
   "metadata": {},
   "source": [
    "# 2 Explore Most Common Words"
   ]
  },
  {
   "cell_type": "markdown",
   "metadata": {},
   "source": [
    "## 2.1 Most Common Words Overall"
   ]
  },
  {
   "cell_type": "markdown",
   "metadata": {},
   "source": [
    "First I will create a function to create a word cloud given a dataframe."
   ]
  },
  {
   "cell_type": "code",
   "execution_count": 12,
   "metadata": {},
   "outputs": [],
   "source": [
    "def to_wordcloud(dataframe):\n",
    "    words = \"\"\n",
    "    for token_list in dataframe.tokens.values:\n",
    "        for token in token_list:\n",
    "            words += token + \" \"\n",
    "            \n",
    "    wordcloud = WordCloud()\n",
    "    wordcloud.generate(words)\n",
    "    \n",
    "    plt.imshow(wordcloud)\n",
    "    plt.tight_layout(pad=0)\n",
    "    plt.show()"
   ]
  },
  {
   "cell_type": "code",
   "execution_count": null,
   "metadata": {},
   "outputs": [],
   "source": [
    "to_wordcloud(explore)"
   ]
  },
  {
   "cell_type": "markdown",
   "metadata": {},
   "source": [
    "## 2.2 Most Common Words In Fake News"
   ]
  },
  {
   "cell_type": "code",
   "execution_count": null,
   "metadata": {},
   "outputs": [],
   "source": [
    "to_wordcloud(explore[explore.real_news == 0])"
   ]
  },
  {
   "cell_type": "markdown",
   "metadata": {},
   "source": [
    "## 2.3 Most Common Words In Real News"
   ]
  },
  {
   "cell_type": "code",
   "execution_count": null,
   "metadata": {},
   "outputs": [],
   "source": [
    "to_wordcloud(explore[explore.real_news==1])"
   ]
  },
  {
   "cell_type": "code",
   "execution_count": null,
   "metadata": {},
   "outputs": [],
   "source": []
  }
 ],
 "metadata": {
  "kernelspec": {
   "display_name": "Python 3",
   "language": "python",
   "name": "python3"
  },
  "language_info": {
   "codemirror_mode": {
    "name": "ipython",
    "version": 3
   },
   "file_extension": ".py",
   "mimetype": "text/x-python",
   "name": "python",
   "nbconvert_exporter": "python",
   "pygments_lexer": "ipython3",
   "version": "3.7.3"
  }
 },
 "nbformat": 4,
 "nbformat_minor": 2
}
