{
 "cells": [
  {
   "cell_type": "markdown",
   "metadata": {},
   "source": [
    "# Final Evaluation"
   ]
  },
  {
   "cell_type": "markdown",
   "metadata": {},
   "source": [
    "The best models were the logistic regression and the XGBoost. I will use logistic regression because it is a simpler model and thus should be less likely to over fit and more likely to perform well on unseen data. First I will import the libraries, apply tfidf vectorization, and then I will simply fit and run the model using the train and test data. I will choose accuracy and precision as my metrics since the goal is to find real news out of fake news. The higher precision is the less fake news articles slip by the classifier."
   ]
  },
  {
   "cell_type": "markdown",
   "metadata": {},
   "source": [
    "# Load data"
   ]
  },
  {
   "cell_type": "code",
   "execution_count": 4,
   "metadata": {},
   "outputs": [],
   "source": [
    "# import libraries\n",
    "import pandas as pd\n",
    "from sklearn.linear_model import LogisticRegression\n",
    "from sklearn.feature_extraction.text import TfidfVectorizer\n",
    "from sklearn.metrics import classification_report\n",
    "import string"
   ]
  },
  {
   "cell_type": "code",
   "execution_count": 2,
   "metadata": {},
   "outputs": [
    {
     "data": {
      "text/html": [
       "<div>\n",
       "<style scoped>\n",
       "    .dataframe tbody tr th:only-of-type {\n",
       "        vertical-align: middle;\n",
       "    }\n",
       "\n",
       "    .dataframe tbody tr th {\n",
       "        vertical-align: top;\n",
       "    }\n",
       "\n",
       "    .dataframe thead th {\n",
       "        text-align: right;\n",
       "    }\n",
       "</style>\n",
       "<table border=\"1\" class=\"dataframe\">\n",
       "  <thead>\n",
       "    <tr style=\"text-align: right;\">\n",
       "      <th></th>\n",
       "      <th>text</th>\n",
       "      <th>real_news</th>\n",
       "    </tr>\n",
       "  </thead>\n",
       "  <tbody>\n",
       "    <tr>\n",
       "      <th>0</th>\n",
       "      <td>Upset at Trump, Mexico voices 'worry and irrit...</td>\n",
       "      <td>1</td>\n",
       "    </tr>\n",
       "    <tr>\n",
       "      <th>1</th>\n",
       "      <td>WATCH: Obama Directly Calls Trump Out For Car...</td>\n",
       "      <td>0</td>\n",
       "    </tr>\n",
       "    <tr>\n",
       "      <th>2</th>\n",
       "      <td>Trump lawyer says president not informed he is...</td>\n",
       "      <td>1</td>\n",
       "    </tr>\n",
       "  </tbody>\n",
       "</table>\n",
       "</div>"
      ],
      "text/plain": [
       "                                                text  real_news\n",
       "0  Upset at Trump, Mexico voices 'worry and irrit...          1\n",
       "1   WATCH: Obama Directly Calls Trump Out For Car...          0\n",
       "2  Trump lawyer says president not informed he is...          1"
      ]
     },
     "execution_count": 2,
     "metadata": {},
     "output_type": "execute_result"
    }
   ],
   "source": [
    "# import data\n",
    "train = pd.read_csv(\"train_clean.csv\")\n",
    "test = pd.read_csv(\"test_clean.csv\")\n",
    "\n",
    "train.head(3)"
   ]
  },
  {
   "cell_type": "markdown",
   "metadata": {},
   "source": [
    "# TFidf Vectorization"
   ]
  },
  {
   "cell_type": "code",
   "execution_count": 5,
   "metadata": {},
   "outputs": [],
   "source": [
    "# preprocess tect, split x and y, and perform tfidf vectorization\n",
    "\n",
    "# preprocess text\n",
    "# remove punctuation and lowercase everything\n",
    "def preprocess(text):\n",
    "    for char in string.punctuation:\n",
    "        text = text.replace(char, \"\")\n",
    "    text = text.lower()\n",
    "    return text\n",
    "\n",
    "train.text = train.text.map(lambda x: preprocess(x))\n",
    "test.text = test.text.map(lambda x: preprocess(x))\n",
    "\n",
    "# split x and y\n",
    "X, y = train.text, train.real_news\n",
    "X_test, y_test = test.text, test.real_news\n",
    "\n",
    "\n",
    "# tfidf vectorization\n",
    "vz = TfidfVectorizer()\n",
    "X = vz.fit_transform(X)\n",
    "X_test = vz.transform(X_test)"
   ]
  },
  {
   "cell_type": "code",
   "execution_count": 7,
   "metadata": {},
   "outputs": [
    {
     "data": {
      "text/plain": [
       "(26553, 186835)"
      ]
     },
     "execution_count": 7,
     "metadata": {},
     "output_type": "execute_result"
    }
   ],
   "source": [
    "X.shape"
   ]
  },
  {
   "cell_type": "markdown",
   "metadata": {},
   "source": [
    "# Fiting and runing the model"
   ]
  },
  {
   "cell_type": "code",
   "execution_count": 8,
   "metadata": {
    "scrolled": true
   },
   "outputs": [
    {
     "name": "stderr",
     "output_type": "stream",
     "text": [
      "C:\\Users\\zasz\\Anaconda3\\lib\\site-packages\\sklearn\\linear_model\\logistic.py:432: FutureWarning: Default solver will be changed to 'lbfgs' in 0.22. Specify a solver to silence this warning.\n",
      "  FutureWarning)\n"
     ]
    },
    {
     "name": "stdout",
     "output_type": "stream",
     "text": [
      "              precision    recall  f1-score   support\n",
      "\n",
      "           0       0.99      0.99      0.99      4539\n",
      "           1       0.99      0.99      0.99      4313\n",
      "\n",
      "    accuracy                           0.99      8852\n",
      "   macro avg       0.99      0.99      0.99      8852\n",
      "weighted avg       0.99      0.99      0.99      8852\n",
      "\n"
     ]
    }
   ],
   "source": [
    "# create model with best params\n",
    "model = LogisticRegression(C=1000)\n",
    "\n",
    "# fit model\n",
    "model.fit(X, y)\n",
    "\n",
    "# running the model on test data\n",
    "y_pred = model.predict(X_test)\n",
    "\n",
    "# results\n",
    "print(classification_report(y_test, y_pred))"
   ]
  },
  {
   "cell_type": "markdown",
   "metadata": {},
   "source": [
    "So the final result is 99% accuracy and 99% precision."
   ]
  }
 ],
 "metadata": {
  "kernelspec": {
   "display_name": "Python 3",
   "language": "python",
   "name": "python3"
  },
  "language_info": {
   "codemirror_mode": {
    "name": "ipython",
    "version": 3
   },
   "file_extension": ".py",
   "mimetype": "text/x-python",
   "name": "python",
   "nbconvert_exporter": "python",
   "pygments_lexer": "ipython3",
   "version": "3.7.3"
  }
 },
 "nbformat": 4,
 "nbformat_minor": 2
}
